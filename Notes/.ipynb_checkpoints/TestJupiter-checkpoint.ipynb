{
 "cells": [
  {
   "cell_type": "code",
   "execution_count": null,
   "metadata": {},
   "outputs": [
    {
     "name": "stdout",
     "output_type": "stream",
     "text": [
      "[5.4 4.5 6.  6.2]\n",
      "[10.8  9.  12.  12.4]\n",
      "[6.2]\n",
      "[False False False  True]\n"
     ]
    }
   ],
   "source": [
    "import numpy as np\n",
    "np_sample = np.array([5.4, 4.5, 6, 6.2])\n",
    "print (np_sample)\n",
    "print (np_sample * 2)\n",
    "np_avg = np_sample > 6\n",
    "print np_sample[np_avg]\n",
    "print np_avg}"
   ]
  },
  {
   "cell_type": "code",
   "execution_count": 14,
   "metadata": {},
   "outputs": [
    {
     "name": "stdout",
     "output_type": "stream",
     "text": [
      "hoI\n",
      "Hore\n",
      "Are\n"
     ]
    }
   ],
   "source": [
    "test = \"hoI Hore Are\"\n",
    "def up_low(test):\n",
    "    for st in test.split():\n",
    "        print st\n",
    "up_low(test)"
   ]
  },
  {
   "cell_type": "code",
   "execution_count": 18,
   "metadata": {},
   "outputs": [
    {
     "name": "stdout",
     "output_type": "stream",
     "text": [
      "<built-in method count of tuple object at 0x02D66CF0>\n"
     ]
    },
    {
     "data": {
      "text/plain": [
       "False"
      ]
     },
     "execution_count": 18,
     "metadata": {},
     "output_type": "execute_result"
    }
   ],
   "source": [
    "import string\n",
    "l=[11,1,1,1,1,1,22,2,2,3,3,3,3,]\n",
    "tup = (1,2,33,4.4)\n",
    "print tup.count\n",
    "st=\"hihello\"\n",
    "st.isupper()\n",
    "# print st.asci_letters();"
   ]
  },
  {
   "cell_type": "code",
   "execution_count": null,
   "metadata": {},
   "outputs": [],
   "source": [
    "# Example for scopes and variables\n",
    "\n",
    "x = 10\n",
    "def test(m):\n",
    "    global x\n",
    "    x+=5\n",
    "    m = x+15\n",
    "    print(\"x:\",x)\n",
    "print(\"x is still:\",x)\n",
    "test(x)\n",
    "\n"
   ]
  },
  {
   "cell_type": "code",
   "execution_count": null,
   "metadata": {},
   "outputs": [],
   "source": [
    "import random\n",
    "\n",
    "p = random.randint(1,7)\n",
    "print p\n",
    "x = lambda y:y**2"
   ]
  },
  {
   "cell_type": "code",
   "execution_count": null,
   "metadata": {},
   "outputs": [],
   "source": [
    "while True:\n",
    "    try:\n",
    "        x = input(\"enter integer: \\n\")\n",
    "        print x**2\n",
    "    except:\n",
    "        print \"bad input, enter integer\"\n",
    "        continue\n",
    "    break"
   ]
  },
  {
   "cell_type": "code",
   "execution_count": 51,
   "metadata": {},
   "outputs": [
    {
     "name": "stdout",
     "output_type": "stream",
     "text": [
      "0\n",
      "0:00:00.000001\n",
      "2018\n",
      "Sat Feb 17 00:00:00 2018\n",
      "736742\n",
      "time.struct_time(tm_year=2018, tm_mon=2, tm_mday=17, tm_hour=0, tm_min=0, tm_sec=0, tm_wday=5, tm_yday=48, tm_isdst=-1)\n",
      "2018\n",
      "D1 is  2018-06-30\n",
      "D2 is  2018-07-30\n"
     ]
    },
    {
     "data": {
      "text/plain": [
       "datetime.timedelta(30)"
      ]
     },
     "execution_count": 51,
     "metadata": {},
     "output_type": "execute_result"
    }
   ],
   "source": [
    "# Date Time\n",
    "import datetime as dt\n",
    "tym = dt.time(5,50,7) #type datetime.time\n",
    "print(tym.microsecond) # 5:50:07 hour:minute:second\n",
    "\n",
    "# Time Delta we can generate anything like year, mon.... min, sec. microsecon\n",
    "\n",
    "print(dt.time.resolution) # Time Delta datetime.time.min or max or resolution\n",
    "\n",
    "# Date Examples\n",
    "dat = dt.date.today() #type datetime.day has attributes like day, month, year\n",
    "print(dat.year)\n",
    "print (dat.ctime()) # Sat Feb 17 00:00:00 2018\n",
    "print (dat.toordinal()) # 736742 not clear\n",
    "print (dat.timetuple())\n",
    "'''time.struct_time(tm_year=2018, tm_mon=2, tm_mday=17, tm_hour=0, tm_min=0, tm_sec=0, tm_wday=5, tm_yday=48, tm_isdst=-1)\n",
    "2018'''\n",
    "print (dat.timetuple().tm_year) # Kind of named tuples \n",
    "d1 =  dt.date(2018,6,30)\n",
    "print('D1 is ', d1)\n",
    "d2 =  d1.replace(month = 7) # always give the parameter name when you face any error / type or value error\n",
    "print('D2 is ', d2)\n",
    "d1-d2 # timedelta (-30)\n",
    "d2-d1 # timedelta (30) #days probably"
   ]
  },
  {
   "cell_type": "code",
   "execution_count": 77,
   "metadata": {},
   "outputs": [
    {
     "name": "stdout",
     "output_type": "stream",
     "text": [
      "found\n",
      "36\n",
      "40\n",
      "['mrp.jade', 'gmail.com']\n"
     ]
    }
   ],
   "source": [
    "# Regular Expression or re\n",
    "import re\n",
    "\n",
    "patterns =['term', 'term1']\n",
    "\n",
    "str = 'The ter is there but not thee other term1 is not one'\n",
    "\n",
    "if re.search('term', str):\n",
    "    print ('found')\n",
    "    \n",
    "match = re.search('term', str)\n",
    "\n",
    "print(match.start())\n",
    "print(match.end())\n",
    "\n",
    "# Split\n",
    "\n",
    "mail = 'mrp.jade@gmail.com'\n",
    "print(re.split('@', mail)) # similar to mail.split('@')\n",
    "mail.partition('@')  # 'mrp.jade', '@', 'gmail.com'))\n",
    "\n",
    "def multi_re_find(patterns, phrase):\n",
    "    '''\n",
    "    Takes in a list of patterns and prints all the matching things from the phrases\n",
    "    '''\n",
    "    for pattern in patterns:\n",
    "        print ('Searching the phrase using the re check: %r' %pattern)\n",
    "        print (re.findall(pattern, phrase))\n",
    "        print ('\\n')\n",
    "        \n",
    "    "
   ]
  },
  {
   "cell_type": "code",
   "execution_count": 79,
   "metadata": {},
   "outputs": [
    {
     "name": "stdout",
     "output_type": "stream",
     "text": [
      "Searching the phrase using the re check: 'sd*'\n",
      "['sd', 'sd', 's', 's', 'sddd', 'sddd', 'sddd', 'sd', 's', 's', 's', 's', 's', 's', 'sdddd']\n",
      "\n",
      "\n",
      "Searching the phrase using the re check: 'sd+'\n",
      "['sd', 'sd', 'sddd', 'sddd', 'sddd', 'sd', 'sdddd']\n",
      "\n",
      "\n",
      "Searching the phrase using the re check: 'sd?'\n",
      "['sd', 'sd', 's', 's', 'sd', 'sd', 'sd', 'sd', 's', 's', 's', 's', 's', 's', 'sd']\n",
      "\n",
      "\n",
      "Searching the phrase using the re check: 'sd{3}'\n",
      "['sddd', 'sddd', 'sddd', 'sddd']\n",
      "\n",
      "\n",
      "Searching the phrase using the re check: 'sd{2,3}'\n",
      "['sddd', 'sddd', 'sddd', 'sddd']\n",
      "\n",
      "\n"
     ]
    }
   ],
   "source": [
    "# Repetition syntax\n",
    "test_phrase = 'sdsd..sssddd...sdddsddd...dsds...dsssss...sdddd'\n",
    "\n",
    "test_patterns = [ 'sd*',     # s followed by zero or more d's\n",
    "                'sd+',          # s followed by one or more d's\n",
    "                'sd?',          # s followed by zero or one d's\n",
    "                'sd{3}',        # s followed by three d's\n",
    "                'sd{2,3}',      # s followed by two to three d's\n",
    "                ]\n",
    "\n",
    "multi_re_find(test_patterns,test_phrase)"
   ]
  },
  {
   "cell_type": "code",
   "execution_count": 80,
   "metadata": {},
   "outputs": [
    {
     "name": "stdout",
     "output_type": "stream",
     "text": [
      "Searching the phrase using the re check: '[sd]'\n",
      "['s', 'd', 's', 'd', 's', 's', 's', 'd', 'd', 'd', 's', 'd', 'd', 'd', 's', 'd', 'd', 'd', 'd', 's', 'd', 's', 'd', 's', 's', 's', 's', 's', 's', 'd', 'd', 'd', 'd']\n",
      "\n",
      "\n",
      "Searching the phrase using the re check: 's[sd]+'\n",
      "['sdsd', 'sssddd', 'sdddsddd', 'sds', 'sssss', 'sdddd']\n",
      "\n",
      "\n"
     ]
    }
   ],
   "source": [
    "# Character set\n",
    "\n",
    "test_phrase = 'sdsd..sssddd...sdddsddd...dsds...dsssss...sdddd'\n",
    "\n",
    "test_patterns = [ '[sd]',    # either s or d\n",
    "            's[sd]+']   # s followed by one or more s or d\n",
    "            \n",
    "\n",
    "multi_re_find(test_patterns,test_phrase)"
   ]
  },
  {
   "cell_type": "code",
   "execution_count": 81,
   "metadata": {},
   "outputs": [
    {
     "data": {
      "text/plain": [
       "['This',\n",
       " 'is',\n",
       " 'a',\n",
       " 'string',\n",
       " 'But',\n",
       " 'it',\n",
       " 'has',\n",
       " 'punctuation',\n",
       " 'How',\n",
       " 'can',\n",
       " 'we',\n",
       " 'remove',\n",
       " 'it']"
      ]
     },
     "execution_count": 81,
     "metadata": {},
     "output_type": "execute_result"
    }
   ],
   "source": [
    "'''\n",
    "Exclusion¶\n",
    "We can use ^ to exclude terms by incorporating it into the bracket syntax notation. For example: [^...] will match any single character not in the brackets. Let's see some examples:\n",
    "\n",
    "Use [^!.? ] to check for matches that are not a !,.,?, or space. Add the + to check that the match appears at least once, this basically translate into finding the words\n",
    "'''\n",
    "test_phrase = 'This is a string! But it has punctuation. How can we remove it?'\n",
    "re.findall('[^!.? ]+',test_phrase)\n"
   ]
  },
  {
   "cell_type": "code",
   "execution_count": 82,
   "metadata": {},
   "outputs": [
    {
     "name": "stdout",
     "output_type": "stream",
     "text": [
      "Searching the phrase using the re check: '[a-z]+'\n",
      "['his', 'is', 'an', 'example', 'sentence', 'ets', 'see', 'if', 'we', 'can', 'find', 'some', 'letters']\n",
      "\n",
      "\n",
      "Searching the phrase using the re check: '[A-Z]+'\n",
      "['T', 'L']\n",
      "\n",
      "\n",
      "Searching the phrase using the re check: '[a-zA-Z]+'\n",
      "['This', 'is', 'an', 'example', 'sentence', 'Lets', 'see', 'if', 'we', 'can', 'find', 'some', 'letters']\n",
      "\n",
      "\n",
      "Searching the phrase using the re check: '[A-Z][a-z]+'\n",
      "['This', 'Lets']\n",
      "\n",
      "\n"
     ]
    }
   ],
   "source": [
    "test_phrase = 'This is an example sentence. Lets see if we can find some letters.'\n",
    "\n",
    "test_patterns=[ '[a-z]+',      # sequences of lower case letters\n",
    "                '[A-Z]+',      # sequences of upper case letters\n",
    "                '[a-zA-Z]+',   # sequences of lower or upper case letters\n",
    "                '[A-Z][a-z]+'] # one upper case letter followed by lower case letters\n",
    "                \n",
    "multi_re_find(test_patterns,test_phrase)"
   ]
  },
  {
   "cell_type": "code",
   "execution_count": null,
   "metadata": {},
   "outputs": [],
   "source": []
  }
 ],
 "metadata": {
  "kernelspec": {
   "display_name": "Python 3",
   "language": "python",
   "name": "python3"
  },
  "language_info": {
   "codemirror_mode": {
    "name": "ipython",
    "version": 3
   },
   "file_extension": ".py",
   "mimetype": "text/x-python",
   "name": "python",
   "nbconvert_exporter": "python",
   "pygments_lexer": "ipython3",
   "version": "3.6.3"
  }
 },
 "nbformat": 4,
 "nbformat_minor": 1
}
